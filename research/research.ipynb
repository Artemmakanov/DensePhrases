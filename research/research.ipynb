{
 "cells": [
  {
   "cell_type": "code",
   "execution_count": 2,
   "metadata": {},
   "outputs": [],
   "source": [
    "# !pip install transformers datasets"
   ]
  },
  {
   "cell_type": "code",
   "execution_count": 23,
   "metadata": {},
   "outputs": [
    {
     "name": "stdout",
     "output_type": "stream",
     "text": [
      "Requirement already satisfied: tqdm in /home/ubuntu/roseltorg_devs/research/developers/Artem-folder/DensePhrases/.venv/lib/python3.10/site-packages (4.66.2)\n",
      "Requirement already satisfied: torch in /home/ubuntu/roseltorg_devs/research/developers/Artem-folder/DensePhrases/.venv/lib/python3.10/site-packages (2.2.0)\n",
      "Requirement already satisfied: nvidia-nvtx-cu12==12.1.105 in /home/ubuntu/roseltorg_devs/research/developers/Artem-folder/DensePhrases/.venv/lib/python3.10/site-packages (from torch) (12.1.105)\n",
      "Requirement already satisfied: nvidia-cusolver-cu12==11.4.5.107 in /home/ubuntu/roseltorg_devs/research/developers/Artem-folder/DensePhrases/.venv/lib/python3.10/site-packages (from torch) (11.4.5.107)\n",
      "Requirement already satisfied: nvidia-cublas-cu12==12.1.3.1 in /home/ubuntu/roseltorg_devs/research/developers/Artem-folder/DensePhrases/.venv/lib/python3.10/site-packages (from torch) (12.1.3.1)\n",
      "Requirement already satisfied: nvidia-cudnn-cu12==8.9.2.26 in /home/ubuntu/roseltorg_devs/research/developers/Artem-folder/DensePhrases/.venv/lib/python3.10/site-packages (from torch) (8.9.2.26)\n",
      "Requirement already satisfied: nvidia-nccl-cu12==2.19.3 in /home/ubuntu/roseltorg_devs/research/developers/Artem-folder/DensePhrases/.venv/lib/python3.10/site-packages (from torch) (2.19.3)\n",
      "Requirement already satisfied: nvidia-cuda-cupti-cu12==12.1.105 in /home/ubuntu/roseltorg_devs/research/developers/Artem-folder/DensePhrases/.venv/lib/python3.10/site-packages (from torch) (12.1.105)\n",
      "Requirement already satisfied: nvidia-curand-cu12==10.3.2.106 in /home/ubuntu/roseltorg_devs/research/developers/Artem-folder/DensePhrases/.venv/lib/python3.10/site-packages (from torch) (10.3.2.106)\n",
      "Requirement already satisfied: fsspec in /home/ubuntu/roseltorg_devs/research/developers/Artem-folder/DensePhrases/.venv/lib/python3.10/site-packages (from torch) (2023.10.0)\n",
      "Requirement already satisfied: nvidia-cuda-nvrtc-cu12==12.1.105 in /home/ubuntu/roseltorg_devs/research/developers/Artem-folder/DensePhrases/.venv/lib/python3.10/site-packages (from torch) (12.1.105)\n",
      "Requirement already satisfied: nvidia-cusparse-cu12==12.1.0.106 in /home/ubuntu/roseltorg_devs/research/developers/Artem-folder/DensePhrases/.venv/lib/python3.10/site-packages (from torch) (12.1.0.106)\n",
      "Requirement already satisfied: networkx in /home/ubuntu/roseltorg_devs/research/developers/Artem-folder/DensePhrases/.venv/lib/python3.10/site-packages (from torch) (3.2.1)\n",
      "Requirement already satisfied: nvidia-cuda-runtime-cu12==12.1.105 in /home/ubuntu/roseltorg_devs/research/developers/Artem-folder/DensePhrases/.venv/lib/python3.10/site-packages (from torch) (12.1.105)\n",
      "Requirement already satisfied: typing-extensions>=4.8.0 in /home/ubuntu/roseltorg_devs/research/developers/Artem-folder/DensePhrases/.venv/lib/python3.10/site-packages (from torch) (4.9.0)\n",
      "Requirement already satisfied: jinja2 in /home/ubuntu/roseltorg_devs/research/developers/Artem-folder/DensePhrases/.venv/lib/python3.10/site-packages (from torch) (3.1.3)\n",
      "Requirement already satisfied: triton==2.2.0 in /home/ubuntu/roseltorg_devs/research/developers/Artem-folder/DensePhrases/.venv/lib/python3.10/site-packages (from torch) (2.2.0)\n",
      "Requirement already satisfied: nvidia-cufft-cu12==11.0.2.54 in /home/ubuntu/roseltorg_devs/research/developers/Artem-folder/DensePhrases/.venv/lib/python3.10/site-packages (from torch) (11.0.2.54)\n",
      "Requirement already satisfied: sympy in /home/ubuntu/roseltorg_devs/research/developers/Artem-folder/DensePhrases/.venv/lib/python3.10/site-packages (from torch) (1.12)\n",
      "Requirement already satisfied: filelock in /home/ubuntu/roseltorg_devs/research/developers/Artem-folder/DensePhrases/.venv/lib/python3.10/site-packages (from torch) (3.13.1)\n",
      "Requirement already satisfied: nvidia-nvjitlink-cu12 in /home/ubuntu/roseltorg_devs/research/developers/Artem-folder/DensePhrases/.venv/lib/python3.10/site-packages (from nvidia-cusolver-cu12==11.4.5.107->torch) (12.3.101)\n",
      "Requirement already satisfied: MarkupSafe>=2.0 in /home/ubuntu/roseltorg_devs/research/developers/Artem-folder/DensePhrases/.venv/lib/python3.10/site-packages (from jinja2->torch) (2.1.5)\n",
      "Requirement already satisfied: mpmath>=0.19 in /home/ubuntu/roseltorg_devs/research/developers/Artem-folder/DensePhrases/.venv/lib/python3.10/site-packages (from sympy->torch) (1.3.0)\n"
     ]
    }
   ],
   "source": [
    "!pip install tqdm torch"
   ]
  },
  {
   "cell_type": "code",
   "execution_count": 1,
   "metadata": {},
   "outputs": [
    {
     "name": "stderr",
     "output_type": "stream",
     "text": [
      "/home/ubuntu/roseltorg_devs/research/developers/Artem-folder/DensePhrases/.venv/lib/python3.10/site-packages/tqdm/auto.py:21: TqdmWarning: IProgress not found. Please update jupyter and ipywidgets. See https://ipywidgets.readthedocs.io/en/stable/user_install.html\n",
      "  from .autonotebook import tqdm as notebook_tqdm\n"
     ]
    }
   ],
   "source": [
    "from datasets import load_dataset\n",
    "\n",
    "raw_datasets = load_dataset(\"squad\")"
   ]
  },
  {
   "cell_type": "code",
   "execution_count": 2,
   "metadata": {},
   "outputs": [],
   "source": [
    "from transformers import AutoTokenizer\n",
    "from transformers import AutoModel\n",
    "\n",
    "\n",
    "model_checkpoint = \"DeepPavlov/distilrubert-tiny-cased-conversational-v1\"\n",
    "tokenizer = AutoTokenizer.from_pretrained(model_checkpoint)\n",
    "\n",
    "model = AutoModel.from_pretrained(model_checkpoint)\n"
   ]
  },
  {
   "cell_type": "code",
   "execution_count": 3,
   "metadata": {},
   "outputs": [],
   "source": [
    "import re\n",
    "from tqdm import tqdm"
   ]
  },
  {
   "cell_type": "code",
   "execution_count": 4,
   "metadata": {},
   "outputs": [],
   "source": [
    "class Dataset:\n",
    "    \n",
    "    def __init__(self) -> None:\n",
    "        self.ids = []\n",
    "        self.contexts = []\n",
    "        self.questions = []\n",
    "        self.answers = []\n",
    "        self.spans = []\n",
    "ds = Dataset()"
   ]
  },
  {
   "cell_type": "code",
   "execution_count": 5,
   "metadata": {},
   "outputs": [
    {
     "name": "stderr",
     "output_type": "stream",
     "text": [
      "100%|██████████| 98169/98169 [00:15<00:00, 6328.00it/s]\n"
     ]
    }
   ],
   "source": [
    "id = 0\n",
    "contexts = raw_datasets['train']['context'] + raw_datasets['validation']['context']\n",
    "questions = raw_datasets['train']['context'] + raw_datasets['validation']['question']\n",
    "answers = raw_datasets['train']['context'] + raw_datasets['validation']['answers']\n",
    "for i in tqdm(range(len(contexts))):\n",
    "\n",
    "    context = contexts[i]\n",
    "    answer = answers[i]\n",
    "    try:\n",
    "        r =  re.search(answer, context)\n",
    "    \n",
    "        s, e = r.span()\n",
    "        ds.ids.append(id)\n",
    "        id += 1\n",
    "        ds.contexts.append(context)\n",
    "        ds.questions.append(questions[i])\n",
    "        ds.answers.append(answer)\n",
    "        ds.spans.append({'start': s, 'end': e})\n",
    "    except:\n",
    "        None\n"
   ]
  },
  {
   "cell_type": "code",
   "execution_count": 6,
   "metadata": {},
   "outputs": [],
   "source": [
    "from collections import defaultdict\n",
    "import torch\n",
    "hidden_dim = 264\n",
    "treshold = 100"
   ]
  },
  {
   "cell_type": "code",
   "execution_count": null,
   "metadata": {},
   "outputs": [],
   "source": []
  },
  {
   "cell_type": "code",
   "execution_count": 23,
   "metadata": {},
   "outputs": [
    {
     "name": "stderr",
     "output_type": "stream",
     "text": [
      "  0%|          | 0/100 [00:00<?, ?it/s]"
     ]
    },
    {
     "name": "stderr",
     "output_type": "stream",
     "text": [
      "100%|██████████| 100/100 [00:03<00:00, 31.89it/s]\n"
     ]
    }
   ],
   "source": [
    "token_id2hiddens = defaultdict(list)\n",
    "for context in tqdm(ds.contexts[:treshold]):\n",
    "    input_ids = tokenizer(context, truncation=True, max_length=512, return_tensors=\"pt\")\n",
    "    last_hidden_state = model(**input_ids).last_hidden_state\n",
    "    for token_num, token_id in enumerate(input_ids['input_ids'][0]):\n",
    "        token_id2hiddens[token_id.item()].append(last_hidden_state[0][token_num])\n"
   ]
  },
  {
   "cell_type": "code",
   "execution_count": 29,
   "metadata": {},
   "outputs": [],
   "source": [
    "token_id2hidden = {} \n",
    "for token_id, hiddens in token_id2hiddens.items():\n",
    "    token_id2hidden[(token_id)] = torch.mean(torch.cat(hiddens).reshape(\n",
    "        (len(hiddens), hidden_dim)), axis=0)"
   ]
  },
  {
   "cell_type": "code",
   "execution_count": 30,
   "metadata": {},
   "outputs": [
    {
     "data": {
      "text/plain": [
       "dict_keys([2, 24518, 6347, 87, 4863, 25424, 6013, 21124, 1125, 10594, 20, 17065, 10951, 230, 118, 4891, 157, 71, 3053, 24775, 12681, 257, 5227, 252, 49, 66, 29069, 2498, 17473, 24488, 3639, 17540, 21650, 24, 3999, 29290, 45, 2624, 18473, 3414, 11426, 10180, 2730, 4465, 111, 16883, 20670, 6649, 3293, 21175, 3738, 28824, 4413, 22222, 5313, 986, 24228, 29725, 1704, 155, 12429, 25140, 1071, 7061, 13488, 96, 5339, 20502, 10529, 25028, 1982, 7463, 1902, 25963, 1661, 5378, 1337, 5243, 9050, 262, 23361, 10649, 14243, 1651, 3147, 13892, 17007, 21392, 2824, 5162, 16263, 6058, 16598, 775, 256, 22863, 10742, 21490, 17128, 2686, 21174, 9418, 21540, 3406, 22599, 158, 7263, 16664, 652, 7384, 14431, 23818, 100, 6508, 13227, 6078, 26438, 22498, 29302, 300, 12663, 25279, 17760, 17771, 260, 27833, 4930, 14911, 13008, 108, 7937, 1931, 26053, 9049, 135, 24226, 18384, 76, 7031, 290, 11149, 1085, 19952, 6442, 9874, 286, 1747, 9688, 8215, 109, 237, 11285, 25185, 19128, 23409, 3902, 6764, 2729, 8692, 9870, 1707, 11308, 28540, 1499, 1004, 7569, 25635, 19576, 8875, 21879, 1785, 4756, 27841, 29599, 22550, 28465, 22852, 7179, 8745, 24111, 12639, 7584, 241, 294, 26810, 74, 4635, 27454, 5219, 273, 841, 10297, 141, 12173, 18638, 13516, 19800, 15921, 29243, 9479, 26908, 12273, 29668, 7224, 17364, 14445, 29293, 7632, 29116, 95, 27679, 14267, 11411, 19978, 2129, 26340, 8554, 4922, 4180, 280, 9511, 30072, 10499, 1737, 6730, 5124, 19920, 13019, 22691, 21756, 8709, 2140, 16174, 9505, 26297, 3, 24617, 22703, 5024, 27215, 15826, 1189, 159, 5529, 19743, 44, 27867, 999, 11448, 26792, 12862, 18990, 28282, 264, 27754, 26418, 15807, 21909, 9089, 7443, 18097, 128, 10541, 94, 14452, 7593, 19011, 276, 24272, 25697, 16995, 9286, 17317, 8016, 26763, 2319, 6631, 20994, 3175, 22129, 17687, 30284, 22191, 5433, 3078, 121, 26594, 22583, 20738, 9190, 8479, 14832, 4605, 26250, 19392, 51, 17399, 24049, 17907, 22920, 13989, 24377, 13977, 3212, 25141, 142, 11793, 102, 22200, 12540, 2192, 236, 791, 125, 136, 1555, 15766, 18529, 8927, 19429, 124, 4501, 18620, 12700, 737, 90, 25775, 1221, 27731, 16008, 15916, 22503, 13787, 19741, 16328, 21167, 17030, 304, 119, 15714, 13367, 15889, 24376, 25864, 20903, 114, 966, 2964, 29615, 29616, 50, 30169, 123, 2585, 29386, 282, 6951, 2382, 5197, 12739, 17260, 23320, 295, 307, 23120, 24967, 7194, 1533, 297, 12459, 2236, 13297, 22156, 25506, 21522, 23274, 4867, 16693, 7631, 23524, 20609, 2602, 28586, 1025, 2078, 10601, 17676, 9826, 28539, 23742, 11179, 5678, 13103, 11514, 148, 7161, 25407, 24347, 19039, 14092, 3181, 16454, 14585, 5052, 6565, 3822, 29383, 26399, 38, 27357, 8956, 14883, 28155, 312, 1730, 9884, 15733, 16789, 29966, 4905, 14914, 16589, 14018, 14879, 8372, 235, 30464, 10072, 787, 20004, 24435, 9730, 2022, 4034, 16375, 6501, 8843, 3627, 23088, 26041, 12892, 13676, 1683, 10639, 25849, 5434, 24893, 7121, 15333, 3962, 9399, 26863, 10872, 17137, 24472, 23349, 9139, 27968, 1256, 10997, 26315, 7240, 12795, 26507, 14019, 21543, 29961, 26883, 55, 8780, 279, 16609, 27108, 24962, 4920, 21464, 26628, 3172, 133, 23183, 16034, 3519, 17256, 27272, 30356, 12033, 13459, 16143, 6834, 14874, 4997, 5624, 7168, 5225, 19051, 25962, 8964, 21615, 9356, 8962, 961, 318, 16824, 20521, 1453, 28487, 1347, 1556, 11517, 13355, 23523, 24431, 768, 134, 8600, 292, 6957, 6357, 4749, 12112, 110, 25821, 3000, 5956, 18417, 5144, 29385, 15623, 18076, 8575, 26214, 19309, 1957, 27974, 18054, 3835, 23959, 29476, 20778, 891, 22306, 21598, 4452, 16699, 2216, 17469, 6362, 130, 972, 25284, 18782, 30008, 11277, 10369, 12105, 7775, 17928, 78, 15729, 22726, 15670, 5320, 1271, 22885, 26850, 16356, 18231, 13117, 16721, 4279, 9271, 48, 17059, 8905, 6927, 26146, 10599, 27268, 10687, 16414, 2334, 7146, 5816, 11840, 244, 13079, 4199, 26142, 6265, 6388, 12759, 10100, 6518, 131, 29320, 28528, 5533, 28493, 24770, 29024, 322, 13441, 13007, 9359, 1809, 10568, 6436, 28098, 25453, 9834, 26972, 7991, 2681, 25685, 15698, 29015, 15327, 25124, 24836, 15894, 27991, 29605, 12139, 6605, 263, 269, 25277, 8425, 19552, 7925, 9481, 27837, 24160, 13312, 17549, 10085, 24977, 20886, 29402, 28504, 29285, 15804, 22727, 13329, 12788, 26131, 28119, 8755, 26496, 15789, 11994, 28379, 72, 8532, 9557, 9958, 21670, 18692, 12990, 21646, 24308, 27748, 7403, 14180, 25901, 3546, 10318, 25833, 16471, 3455, 7217, 17278, 22760, 23401, 11215, 5358, 18266, 15055, 22093, 13803, 11806, 10319, 30185, 9886, 24547, 11502, 22483, 3417, 17041, 144, 26357, 23244, 5204, 18241, 18019, 15096, 4609, 27667, 15085, 10337, 25573, 16021, 23054, 1623, 14974, 719, 23927, 14842, 24542, 27440, 9729, 16672, 6422, 19969, 3055, 116, 17422, 23062, 13804, 18110, 15793, 7549, 25871, 1059, 19631, 6178, 1434, 19202, 83, 24417, 12998, 311, 14876, 2207, 28249, 8787, 12501, 14247, 12776, 93, 11615, 26630, 10215, 13610, 23571, 11557, 29487, 25428, 4101, 5763, 99, 9222, 22607, 7350, 12559, 17129, 12810, 25795, 6832, 17942, 14103, 16558, 14607, 29860, 10870, 6365, 15862, 53, 25582, 26341, 10097, 16403, 28699, 24691, 11916, 11086, 16986, 2990, 15851, 10546, 29723, 19448, 8586, 3764, 21000, 5072, 14171, 1693, 12861, 10834, 233, 19082, 14965, 29000, 23639, 296, 17153, 2512, 30264, 20761, 29416, 2458, 22419, 1595, 23269, 16075, 1, 16616, 15570, 4893, 12192, 23809, 30175, 15192, 24907, 10793, 6275, 9820, 16641, 16654, 10883, 14877, 17430, 3501, 9470, 13429, 317, 305, 17925, 85, 14406, 17463, 8394, 330, 320, 302, 20047, 4078, 18083, 17539, 4548, 11855, 15752, 3064, 7590, 4632, 58, 5590, 115, 57, 29583, 7503, 8828, 20340, 1286, 12665, 27887, 8953, 27984, 7546, 16553, 278, 19259, 18436, 11724, 15922, 24422, 20828, 67, 10176, 25796, 18641, 6000, 30247, 17165, 23488, 10275, 26408, 12111, 17821, 28200, 22340, 27003, 2067, 8858, 20045, 29965, 18406, 23299, 27933, 14697, 27869, 160, 7176, 19371, 22316, 6697, 14992, 28196])"
      ]
     },
     "execution_count": 30,
     "metadata": {},
     "output_type": "execute_result"
    }
   ],
   "source": [
    "(token_id2hidden.keys())"
   ]
  },
  {
   "cell_type": "code",
   "execution_count": null,
   "metadata": {},
   "outputs": [],
   "source": []
  },
  {
   "cell_type": "code",
   "execution_count": null,
   "metadata": {},
   "outputs": [],
   "source": []
  },
  {
   "cell_type": "code",
   "execution_count": null,
   "metadata": {},
   "outputs": [],
   "source": []
  },
  {
   "cell_type": "code",
   "execution_count": null,
   "metadata": {},
   "outputs": [],
   "source": []
  }
 ],
 "metadata": {
  "kernelspec": {
   "display_name": "dense",
   "language": "python",
   "name": "dense"
  },
  "language_info": {
   "codemirror_mode": {
    "name": "ipython",
    "version": 3
   },
   "file_extension": ".py",
   "mimetype": "text/x-python",
   "name": "python",
   "nbconvert_exporter": "python",
   "pygments_lexer": "ipython3",
   "version": "3.10.12"
  }
 },
 "nbformat": 4,
 "nbformat_minor": 2
}
